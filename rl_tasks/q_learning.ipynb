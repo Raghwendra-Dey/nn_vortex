{
  "nbformat": 4,
  "nbformat_minor": 0,
  "metadata": {
    "colab": {
      "name": "q_learning.ipynb",
      "provenance": [],
      "collapsed_sections": []
    },
    "kernelspec": {
      "name": "python3",
      "display_name": "Python 3"
    },
    "accelerator": "GPU"
  },
  "cells": [
    {
      "cell_type": "markdown",
      "metadata": {
        "id": "1SMPXmCsXAOG",
        "colab_type": "text"
      },
      "source": [
        "[![Open In Colab](https://colab.research.google.com/assets/colab-badge.svg)](https://colab.research.google.com/drive/1yns1zDdCT-L_hNF6VtIU4CPQ-gRf7K_Z)"
      ]
    },
    {
      "cell_type": "code",
      "metadata": {
        "id": "Awxs4B9ot8Mc",
        "colab_type": "code",
        "colab": {}
      },
      "source": [
        "import gym\n",
        "import numpy as np\n",
        "import random\n",
        "from IPython.display import clear_output"
      ],
      "execution_count": 0,
      "outputs": []
    },
    {
      "cell_type": "code",
      "metadata": {
        "id": "Ye1-kkpHdfXA",
        "colab_type": "code",
        "colab": {
          "base_uri": "https://localhost:8080/",
          "height": 34
        },
        "outputId": "95f09c6d-7459-4cce-fcf0-b6c3a38da2c3"
      },
      "source": [
        "env = gym.make('Taxi-v3').env\n",
        "env.reset()"
      ],
      "execution_count": 15,
      "outputs": [
        {
          "output_type": "execute_result",
          "data": {
            "text/plain": [
              "186"
            ]
          },
          "metadata": {
            "tags": []
          },
          "execution_count": 15
        }
      ]
    },
    {
      "cell_type": "code",
      "metadata": {
        "id": "icSekzf7ucqn",
        "colab_type": "code",
        "outputId": "73af44b0-ee79-4ac8-8a15-2e71f0f2ed4d",
        "colab": {
          "base_uri": "https://localhost:8080/",
          "height": 156
        }
      },
      "source": [
        "env.render()"
      ],
      "execution_count": 0,
      "outputs": [
        {
          "output_type": "stream",
          "text": [
            "+---------+\n",
            "|\u001b[34;1mR\u001b[0m: | : :G|\n",
            "| : |\u001b[43m \u001b[0m: : |\n",
            "| : : : : |\n",
            "| | : | : |\n",
            "|Y| : |\u001b[35mB\u001b[0m: |\n",
            "+---------+\n",
            "  (Dropoff)\n"
          ],
          "name": "stdout"
        }
      ]
    },
    {
      "cell_type": "code",
      "metadata": {
        "id": "c9Qs7Nqf5_aL",
        "colab_type": "code",
        "outputId": "5bd40818-7756-4bc7-f1ce-db62b76aca09",
        "colab": {
          "base_uri": "https://localhost:8080/",
          "height": 173
        }
      },
      "source": [
        "state = env.encode(3, 3, 2, 3)\n",
        "env.s = state\n",
        "print('State: ',state)\n",
        "env.render()"
      ],
      "execution_count": 0,
      "outputs": [
        {
          "output_type": "stream",
          "text": [
            "State:  371\n",
            "+---------+\n",
            "|R: | : :G|\n",
            "| : | : : |\n",
            "| : : : : |\n",
            "| | : |\u001b[43m \u001b[0m: |\n",
            "|\u001b[34;1mY\u001b[0m| : |\u001b[35mB\u001b[0m: |\n",
            "+---------+\n",
            "\n"
          ],
          "name": "stdout"
        }
      ]
    },
    {
      "cell_type": "code",
      "metadata": {
        "id": "ji75rB1i93Nh",
        "colab_type": "code",
        "colab": {}
      },
      "source": [
        "q_table = np.zeros((env.observation_space.n,env.action_space.n))\n",
        "env"
      ],
      "execution_count": 0,
      "outputs": []
    },
    {
      "cell_type": "code",
      "metadata": {
        "id": "Wh_9iONJJicw",
        "colab_type": "code",
        "outputId": "ba22b283-18a9-410a-d111-0e0a962c3506",
        "colab": {
          "base_uri": "https://localhost:8080/",
          "height": 191
        }
      },
      "source": [
        "alpha = 0.1\n",
        "gamma = 0.7\n",
        "epsilon = 0.1\n",
        "\n",
        "EPOCHS = 100000\n",
        "\n",
        "for i in range(EPOCHS):\n",
        "  state = env.reset()\n",
        "  done = False\n",
        "\n",
        "  while not done:\n",
        "    if(random.uniform(0,1)<epsilon):\n",
        "      action = env.action_space.sample()\n",
        "    else:\n",
        "      action = np.argmax(q_table[state])\n",
        "    next_state, reward, done, info = env.step(action)\n",
        "    q_table[state, action] = (1-alpha)*q_table[state,action] + alpha*(reward + gamma*np.max(q_table[next_state]))\n",
        "    state = next_state\n",
        "  if i%10000 == 0:\n",
        "    print(\"EPOCHS: \",i)\n"
      ],
      "execution_count": 0,
      "outputs": [
        {
          "output_type": "stream",
          "text": [
            "EPOCHS:  0\n",
            "EPOCHS:  10000\n",
            "EPOCHS:  20000\n",
            "EPOCHS:  30000\n",
            "EPOCHS:  40000\n",
            "EPOCHS:  50000\n",
            "EPOCHS:  60000\n",
            "EPOCHS:  70000\n",
            "EPOCHS:  80000\n",
            "EPOCHS:  90000\n"
          ],
          "name": "stdout"
        }
      ]
    },
    {
      "cell_type": "code",
      "metadata": {
        "id": "R2NBt2DYT0JW",
        "colab_type": "code",
        "outputId": "315c758a-bb9a-4e8a-8797-e662d55f8c1f",
        "colab": {
          "base_uri": "https://localhost:8080/",
          "height": 34
        }
      },
      "source": [
        "episodes = 500\n",
        "penalties = 0\n",
        "for _ in range(episodes):\n",
        "  state = env.reset()\n",
        "  done = False\n",
        "  while not done:\n",
        "    state, reward, done, info = env.step(np.argmax(q_table[state]))\n",
        "    if reward == -10:\n",
        "      penalties += 1\n",
        "print(\"Penalties per episode: \",penalties/episodes)\n"
      ],
      "execution_count": 0,
      "outputs": [
        {
          "output_type": "stream",
          "text": [
            "Penalties per episode:  0.0\n"
          ],
          "name": "stdout"
        }
      ]
    },
    {
      "cell_type": "code",
      "metadata": {
        "id": "qNbnTWgzW8Wt",
        "colab_type": "code",
        "colab": {}
      },
      "source": [
        ""
      ],
      "execution_count": 0,
      "outputs": []
    }
  ]
}