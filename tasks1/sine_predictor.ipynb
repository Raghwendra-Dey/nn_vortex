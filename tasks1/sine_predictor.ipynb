{
  "nbformat": 4,
  "nbformat_minor": 0,
  "metadata": {
    "colab": {
      "name": "sine_predictor.ipynb",
      "provenance": [],
      "collapsed_sections": []
    },
    "kernelspec": {
      "name": "python3",
      "display_name": "Python 3"
    }
  },
  "cells": [
    {
      "cell_type": "code",
      "metadata": {
        "id": "lZlhvMpCGacG",
        "colab_type": "code",
        "colab": {}
      },
      "source": [
        "import csv\n",
        "import math\n",
        "import tensorflow as tf\n",
        "from tensorflow import keras\n",
        "import numpy as np"
      ],
      "execution_count": 0,
      "outputs": []
    },
    {
      "cell_type": "code",
      "metadata": {
        "id": "cpGacD2IIpmO",
        "colab_type": "code",
        "colab": {}
      },
      "source": [
        "rows = []\n",
        "x = []\n",
        "y = []\n",
        "x_test = []\n",
        "y_test = []\n",
        "\n",
        "for i in range(10000):\n",
        "  rows.append([i*1.57/1000.0,math.sin(i*1.57/1000.0)])\n",
        "  x.append((i*1.57)/10000.0)\n",
        "  y.append(math.sin(i*1.57/10000.0))\n",
        "\n",
        "for i in range(1000):\n",
        "  x_test.append(((i+10000)*1.57)/11000.0)\n",
        "  y_test.append(math.sin((i+10000)*1.57/11000.0))\n",
        "\n",
        "\n",
        "x = np.asarray(x)\n",
        "y = np.asarray(y)"
      ],
      "execution_count": 0,
      "outputs": []
    },
    {
      "cell_type": "code",
      "metadata": {
        "id": "RO1Et5ldJUuz",
        "colab_type": "code",
        "outputId": "d3e7f0c3-fb66-449e-8aaf-07a3578147da",
        "colab": {
          "base_uri": "https://localhost:8080/",
          "height": 86
        }
      },
      "source": [
        "filename = \"sin_data.csv\"\n",
        "fields = ['x', 'y']\n",
        "for i in [9000,8000]:\n",
        "  print(y[i])\n",
        "  print(x[i])"
      ],
      "execution_count": 0,
      "outputs": [
        {
          "output_type": "stream",
          "text": [
            "0.9875759712809227\n",
            "1.413\n",
            "0.95085946050647\n",
            "1.256\n"
          ],
          "name": "stdout"
        }
      ]
    },
    {
      "cell_type": "code",
      "metadata": {
        "id": "kVWirAc0JaWe",
        "colab_type": "code",
        "colab": {}
      },
      "source": [
        "with open(filename, 'w') as csvfile: \n",
        "    csvwriter = csv.writer(csvfile)\n",
        "    csvwriter.writerow(fields)   \n",
        "    csvwriter.writerows(rows)"
      ],
      "execution_count": 0,
      "outputs": []
    },
    {
      "cell_type": "code",
      "metadata": {
        "id": "sHTs62IuJjUk",
        "colab_type": "code",
        "colab": {}
      },
      "source": [
        "def get_dataset(file_path, **kwargs):\n",
        "  dataset = tf.data.experimental.make_csv_dataset(\n",
        "      file_path,\n",
        "      batch_size=5, # Artificially small to make examples easier to show.\n",
        "      label_name='y',\n",
        "      na_value=\"?\",\n",
        "      num_epochs=1,\n",
        "      ignore_errors=True, \n",
        "      **kwargs)\n",
        "  return dataset\n",
        "\n",
        "raw_train_data = get_dataset(filename)\n",
        "# raw_test_data = get_dataset(test_file_path)\n"
      ],
      "execution_count": 0,
      "outputs": []
    },
    {
      "cell_type": "code",
      "metadata": {
        "id": "wqVhWuUHMoDa",
        "colab_type": "code",
        "colab": {}
      },
      "source": [
        "def pack(features, label):\n",
        "  return tf.stack(list(features.values()), axis=-1), label\n"
      ],
      "execution_count": 0,
      "outputs": []
    },
    {
      "cell_type": "code",
      "metadata": {
        "id": "5YJejtO2Lweb",
        "colab_type": "code",
        "colab": {}
      },
      "source": [
        "model = keras.Sequential([\n",
        "                          keras.layers.Dense(128,activation='sigmoid'),\n",
        "                          keras.layers.Dense(64,activation='sigmoid'),\n",
        "                          keras.layers.Dense(1, activation='tanh')\n",
        "                          ])"
      ],
      "execution_count": 0,
      "outputs": []
    },
    {
      "cell_type": "code",
      "metadata": {
        "id": "WqfRbMCKO5dr",
        "colab_type": "code",
        "colab": {}
      },
      "source": [
        "model.compile(optimizer='adam',\n",
        "              loss = 'mean_squared_error',\n",
        "              metrics = ['accuracy'])"
      ],
      "execution_count": 0,
      "outputs": []
    },
    {
      "cell_type": "code",
      "metadata": {
        "id": "0KhmJi7BPQwu",
        "colab_type": "code",
        "outputId": "03f21550-b67b-459e-a38d-d1d75ec53adc",
        "colab": {
          "base_uri": "https://localhost:8080/",
          "height": 399
        }
      },
      "source": [
        "model.fit(x,y,epochs=10)"
      ],
      "execution_count": 0,
      "outputs": [
        {
          "output_type": "stream",
          "text": [
            "Train on 10000 samples\n",
            "Epoch 1/10\n",
            "10000/10000 [==============================] - 0s 49us/sample - loss: 0.0504 - acc: 1.0000e-04\n",
            "Epoch 2/10\n",
            "10000/10000 [==============================] - 1s 58us/sample - loss: 0.0014 - acc: 1.0000e-04\n",
            "Epoch 3/10\n",
            "10000/10000 [==============================] - 0s 49us/sample - loss: 0.0012 - acc: 1.0000e-04\n",
            "Epoch 4/10\n",
            "10000/10000 [==============================] - 0s 49us/sample - loss: 0.0011 - acc: 1.0000e-04\n",
            "Epoch 5/10\n",
            "10000/10000 [==============================] - 0s 49us/sample - loss: 0.0010 - acc: 1.0000e-04\n",
            "Epoch 6/10\n",
            "10000/10000 [==============================] - 0s 49us/sample - loss: 9.7311e-04 - acc: 1.0000e-04\n",
            "Epoch 7/10\n",
            "10000/10000 [==============================] - 1s 50us/sample - loss: 8.9321e-04 - acc: 1.0000e-04\n",
            "Epoch 8/10\n",
            "10000/10000 [==============================] - 1s 51us/sample - loss: 8.0206e-04 - acc: 1.0000e-04\n",
            "Epoch 9/10\n",
            "10000/10000 [==============================] - 1s 52us/sample - loss: 6.9442e-04 - acc: 1.0000e-04\n",
            "Epoch 10/10\n",
            "10000/10000 [==============================] - 0s 50us/sample - loss: 5.1680e-04 - acc: 1.0000e-04\n"
          ],
          "name": "stdout"
        },
        {
          "output_type": "execute_result",
          "data": {
            "text/plain": [
              "<tensorflow.python.keras.callbacks.History at 0x7fb233f8f860>"
            ]
          },
          "metadata": {
            "tags": []
          },
          "execution_count": 21
        }
      ]
    },
    {
      "cell_type": "code",
      "metadata": {
        "id": "EBVyobZ-PT88",
        "colab_type": "code",
        "outputId": "eb649a4c-0c58-4e07-c4ef-b9b8612416a9",
        "colab": {
          "base_uri": "https://localhost:8080/",
          "height": 69
        }
      },
      "source": [
        "test_loss, test_acc = model.evaluate(x_test, y_test, verbose=2)\n",
        "print('\\nTest accuracy: ',test_acc)"
      ],
      "execution_count": 0,
      "outputs": [
        {
          "output_type": "stream",
          "text": [
            "1000/1000 - 0s - loss: 0.0013 - acc: 0.0000e+00\n",
            "\n",
            "Test accuracy:  0.0\n"
          ],
          "name": "stdout"
        }
      ]
    },
    {
      "cell_type": "code",
      "metadata": {
        "id": "mpSIzxS0YfkI",
        "colab_type": "code",
        "colab": {}
      },
      "source": [
        ""
      ],
      "execution_count": 0,
      "outputs": []
    }
  ]
}